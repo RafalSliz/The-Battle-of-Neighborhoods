{
 "cells": [
  {
   "cell_type": "markdown",
   "metadata": {},
   "source": [
    "# The Battle of Neighborhoods - Capstone project Warsaw flats"
   ]
  },
  {
   "cell_type": "markdown",
   "metadata": {},
   "source": [
    "##### Import necessary packages"
   ]
  },
  {
   "cell_type": "code",
   "execution_count": 1,
   "metadata": {},
   "outputs": [],
   "source": [
    "from bs4 import BeautifulSoup\n",
    "from requests import get\n",
    "import requests\n",
    "import sqlite3\n",
    "from sys import argv\n",
    "import re\n",
    "import pandas as pd\n",
    "import numpy as np\n",
    "import wikipedia as wp\n",
    "from geopy.geocoders import Nominatim\n",
    "from geopy.distance import great_circle\n",
    "import folium\n",
    "import json\n",
    "\n",
    "import matplotlib.cm as cm\n",
    "import matplotlib.colors as colors\n",
    "import matplotlib.pyplot as plt\n",
    "\n",
    "import seaborn as sns\n",
    "from pandas.io.json import json_normalize \n",
    "\n",
    "from sklearn.cluster import KMeans"
   ]
  },
  {
   "cell_type": "markdown",
   "metadata": {},
   "source": [
    "### 1. Scraping local website\n",
    "##### Set URL address to local website with apartments ad"
   ]
  },
  {
   "cell_type": "code",
   "execution_count": 2,
   "metadata": {},
   "outputs": [],
   "source": [
    "URL = 'https://www.olx.pl/nieruchomosci/mieszkania/wynajem/warszawa/'\n",
    "flats = []"
   ]
  },
  {
   "cell_type": "code",
   "execution_count": 3,
   "metadata": {},
   "outputs": [],
   "source": [
    "def parse_price(price):\n",
    "    return float(price.replace(' ','').replace('zł','').replace(',','.'))"
   ]
  },
  {
   "cell_type": "code",
   "execution_count": 4,
   "metadata": {},
   "outputs": [],
   "source": [
    "def parse_page(pageNumber):\n",
    "    print(f'Processing......... Page number {pageNumber}')\n",
    "    page = get(f'{URL}?page={pageNumber}')\n",
    "    bs = BeautifulSoup(page.content, 'html.parser')\n",
    "    \n",
    "    for offer in bs.find_all('div', class_='offer-wrapper'):\n",
    "        footer = offer.find('td', class_ = 'bottom-cell')\n",
    "        test = footer.find('small', class_='breadcrumb').get_text().strip().split(',')\n",
    "        if (len(test)>1):\n",
    "            location = footer.find('small', class_='breadcrumb').get_text().strip().split(',')[1]\n",
    "            title = offer.find('strong').get_text().strip()\n",
    "            price = parse_price(offer.find('p',class_='price').get_text().strip())\n",
    "            \n",
    "            #Processing of the ads from the pageNumber \n",
    "            link = offer.find('a')\n",
    "            #print(link['href'])\n",
    "            URL2 = link['href']\n",
    "            page2 = get(URL2)\n",
    "            bs2 = BeautifulSoup(page2.content, 'html.parser')\n",
    "            offer2 = bs2.find_all('div', class_='clr descriptioncontent marginbott20')\n",
    "            offer_detail_names_ = bs2.find_all('span', class_='offer-details__name')\n",
    "            offer_detail_values_ = bs2.find_all('strong', class_='offer-details__value')\n",
    "                \n",
    "            offer_detail_names=[]\n",
    "            offer_detail_values=[]\n",
    "            for i in offer_detail_names_:\n",
    "                offer_detail_names.append(i.contents[0])\n",
    "            for i in offer_detail_values_:\n",
    "                offer_detail_values.append(i.contents[0])\n",
    "                    \n",
    "            if 'Powierzchnia' in offer_detail_names:    \n",
    "                i = offer_detail_names.index('Powierzchnia') \n",
    "                size_ = offer_detail_values[i].string\n",
    "                size_ = size_[:-2]\n",
    "                if ',' in size_:\n",
    "                    size_ = size_.replace(',','.')\n",
    "                size = float(size_)\n",
    "                \n",
    "                \n",
    "                i = offer_detail_names.index('Liczba pokoi')\n",
    "                rooms_ = offer_detail_values[i].string\n",
    "                if rooms_ == 'Kawalerka':\n",
    "                    rooms = 1\n",
    "                else:\n",
    "                    rooms_ = rooms_[:-6]\n",
    "                    rooms = int(re.search(r'\\d+', rooms_).group(0))\n",
    "                flats.append([location,size,rooms,price,round(price/size,2)])"
   ]
  },
  {
   "cell_type": "code",
   "execution_count": 11,
   "metadata": {},
   "outputs": [
    {
     "name": "stdout",
     "output_type": "stream",
     "text": [
      "Processing......... Page number 1\n",
      "Processing......... Page number 2\n",
      "Processing......... Page number 3\n",
      "Processing......... Page number 4\n",
      "Processing......... Page number 5\n",
      "Processing......... Page number 6\n",
      "Processing......... Page number 7\n",
      "Processing......... Page number 8\n",
      "Processing......... Page number 9\n",
      "Processing......... Page number 10\n",
      "Processing......... Page number 11\n",
      "Processing......... Page number 12\n",
      "Processing......... Page number 13\n",
      "Processing......... Page number 14\n",
      "Processing......... Page number 15\n",
      "Processing......... Page number 16\n",
      "Processing......... Page number 17\n",
      "Processing......... Page number 18\n",
      "Processing......... Page number 19\n",
      "Processing......... Page number 20\n",
      "Processing......... Page number 21\n",
      "Processing......... Page number 22\n",
      "Processing......... Page number 23\n",
      "Processing......... Page number 24\n",
      "Processing......... Page number 25\n"
     ]
    }
   ],
   "source": [
    "for page in range (1,26):\n",
    "    parse_page(page)"
   ]
  },
  {
   "cell_type": "code",
   "execution_count": 12,
   "metadata": {},
   "outputs": [
    {
     "data": {
      "text/html": [
       "<div>\n",
       "<style scoped>\n",
       "    .dataframe tbody tr th:only-of-type {\n",
       "        vertical-align: middle;\n",
       "    }\n",
       "\n",
       "    .dataframe tbody tr th {\n",
       "        vertical-align: top;\n",
       "    }\n",
       "\n",
       "    .dataframe thead th {\n",
       "        text-align: right;\n",
       "    }\n",
       "</style>\n",
       "<table border=\"1\" class=\"dataframe\">\n",
       "  <thead>\n",
       "    <tr style=\"text-align: right;\">\n",
       "      <th></th>\n",
       "      <th>District</th>\n",
       "      <th>Size m2</th>\n",
       "      <th>Rooms</th>\n",
       "      <th>Price</th>\n",
       "      <th>Price/m2</th>\n",
       "    </tr>\n",
       "  </thead>\n",
       "  <tbody>\n",
       "    <tr>\n",
       "      <th>0</th>\n",
       "      <td>Włochy</td>\n",
       "      <td>49.00</td>\n",
       "      <td>2</td>\n",
       "      <td>2500.0</td>\n",
       "      <td>51.02</td>\n",
       "    </tr>\n",
       "    <tr>\n",
       "      <th>1</th>\n",
       "      <td>Ursus</td>\n",
       "      <td>37.07</td>\n",
       "      <td>2</td>\n",
       "      <td>1800.0</td>\n",
       "      <td>48.56</td>\n",
       "    </tr>\n",
       "    <tr>\n",
       "      <th>2</th>\n",
       "      <td>Białołęka</td>\n",
       "      <td>37.00</td>\n",
       "      <td>2</td>\n",
       "      <td>2300.0</td>\n",
       "      <td>62.16</td>\n",
       "    </tr>\n",
       "    <tr>\n",
       "      <th>3</th>\n",
       "      <td>Bielany</td>\n",
       "      <td>88.00</td>\n",
       "      <td>4</td>\n",
       "      <td>3499.0</td>\n",
       "      <td>39.76</td>\n",
       "    </tr>\n",
       "    <tr>\n",
       "      <th>4</th>\n",
       "      <td>Wawer</td>\n",
       "      <td>130.00</td>\n",
       "      <td>3</td>\n",
       "      <td>3500.0</td>\n",
       "      <td>26.92</td>\n",
       "    </tr>\n",
       "  </tbody>\n",
       "</table>\n",
       "</div>"
      ],
      "text/plain": [
       "     District  Size m2  Rooms   Price  Price/m2\n",
       "0      Włochy    49.00      2  2500.0     51.02\n",
       "1       Ursus    37.07      2  1800.0     48.56\n",
       "2   Białołęka    37.00      2  2300.0     62.16\n",
       "3     Bielany    88.00      4  3499.0     39.76\n",
       "4       Wawer   130.00      3  3500.0     26.92"
      ]
     },
     "execution_count": 12,
     "metadata": {},
     "output_type": "execute_result"
    }
   ],
   "source": [
    "column_names = ['District', 'Size m2', 'Rooms', 'Price' , 'Price/m2']\n",
    "flatsOffers = pd.DataFrame(flats, columns=column_names)\n",
    "flatsOffers.head()"
   ]
  },
  {
   "cell_type": "code",
   "execution_count": 13,
   "metadata": {},
   "outputs": [
    {
     "name": "stdout",
     "output_type": "stream",
     "text": [
      "There are 989 flats in the dataset\n"
     ]
    }
   ],
   "source": [
    "print('There are {} flats in the dataset'.format(flatsOffers.shape[0]))"
   ]
  },
  {
   "cell_type": "markdown",
   "metadata": {},
   "source": [
    "##### Save scraping data to csv"
   ]
  },
  {
   "cell_type": "code",
   "execution_count": 16,
   "metadata": {},
   "outputs": [],
   "source": [
    "flatsOffers.to_csv('flatsOffers.csv',index=False) "
   ]
  },
  {
   "cell_type": "markdown",
   "metadata": {},
   "source": [
    "##### Load data from csv"
   ]
  },
  {
   "cell_type": "code",
   "execution_count": 36,
   "metadata": {},
   "outputs": [],
   "source": [
    "flatsOffers = pd.read_csv(\"flatsOffers.csv\") "
   ]
  },
  {
   "cell_type": "markdown",
   "metadata": {},
   "source": [
    "### 2 Cleaning and visualize data"
   ]
  },
  {
   "cell_type": "code",
   "execution_count": 37,
   "metadata": {},
   "outputs": [
    {
     "data": {
      "text/html": [
       "<div>\n",
       "<style scoped>\n",
       "    .dataframe tbody tr th:only-of-type {\n",
       "        vertical-align: middle;\n",
       "    }\n",
       "\n",
       "    .dataframe tbody tr th {\n",
       "        vertical-align: top;\n",
       "    }\n",
       "\n",
       "    .dataframe thead th {\n",
       "        text-align: right;\n",
       "    }\n",
       "</style>\n",
       "<table border=\"1\" class=\"dataframe\">\n",
       "  <thead>\n",
       "    <tr style=\"text-align: right;\">\n",
       "      <th></th>\n",
       "      <th>Size m2</th>\n",
       "      <th>Rooms</th>\n",
       "      <th>Price</th>\n",
       "      <th>Price/m2</th>\n",
       "    </tr>\n",
       "  </thead>\n",
       "  <tbody>\n",
       "    <tr>\n",
       "      <th>count</th>\n",
       "      <td>989.000000</td>\n",
       "      <td>989.000000</td>\n",
       "      <td>989.000000</td>\n",
       "      <td>989.000000</td>\n",
       "    </tr>\n",
       "    <tr>\n",
       "      <th>mean</th>\n",
       "      <td>41.970293</td>\n",
       "      <td>1.885743</td>\n",
       "      <td>2008.408493</td>\n",
       "      <td>50.581062</td>\n",
       "    </tr>\n",
       "    <tr>\n",
       "      <th>std</th>\n",
       "      <td>16.142255</td>\n",
       "      <td>0.729711</td>\n",
       "      <td>721.634052</td>\n",
       "      <td>14.015332</td>\n",
       "    </tr>\n",
       "    <tr>\n",
       "      <th>min</th>\n",
       "      <td>10.000000</td>\n",
       "      <td>1.000000</td>\n",
       "      <td>100.000000</td>\n",
       "      <td>1.640000</td>\n",
       "    </tr>\n",
       "    <tr>\n",
       "      <th>25%</th>\n",
       "      <td>31.000000</td>\n",
       "      <td>1.000000</td>\n",
       "      <td>1590.000000</td>\n",
       "      <td>41.670000</td>\n",
       "    </tr>\n",
       "    <tr>\n",
       "      <th>50%</th>\n",
       "      <td>40.000000</td>\n",
       "      <td>2.000000</td>\n",
       "      <td>1900.000000</td>\n",
       "      <td>49.900000</td>\n",
       "    </tr>\n",
       "    <tr>\n",
       "      <th>75%</th>\n",
       "      <td>50.000000</td>\n",
       "      <td>2.000000</td>\n",
       "      <td>2300.000000</td>\n",
       "      <td>58.140000</td>\n",
       "    </tr>\n",
       "    <tr>\n",
       "      <th>max</th>\n",
       "      <td>150.000000</td>\n",
       "      <td>4.000000</td>\n",
       "      <td>10100.000000</td>\n",
       "      <td>125.000000</td>\n",
       "    </tr>\n",
       "  </tbody>\n",
       "</table>\n",
       "</div>"
      ],
      "text/plain": [
       "          Size m2       Rooms         Price    Price/m2\n",
       "count  989.000000  989.000000    989.000000  989.000000\n",
       "mean    41.970293    1.885743   2008.408493   50.581062\n",
       "std     16.142255    0.729711    721.634052   14.015332\n",
       "min     10.000000    1.000000    100.000000    1.640000\n",
       "25%     31.000000    1.000000   1590.000000   41.670000\n",
       "50%     40.000000    2.000000   1900.000000   49.900000\n",
       "75%     50.000000    2.000000   2300.000000   58.140000\n",
       "max    150.000000    4.000000  10100.000000  125.000000"
      ]
     },
     "execution_count": 37,
     "metadata": {},
     "output_type": "execute_result"
    }
   ],
   "source": [
    "flatsOffers.describe()"
   ]
  },
  {
   "cell_type": "code",
   "execution_count": 38,
   "metadata": {},
   "outputs": [
    {
     "data": {
      "text/plain": [
       "District     object\n",
       "Size m2     float64\n",
       "Rooms         int64\n",
       "Price       float64\n",
       "Price/m2    float64\n",
       "dtype: object"
      ]
     },
     "execution_count": 38,
     "metadata": {},
     "output_type": "execute_result"
    }
   ],
   "source": [
    "flatsOffers.dtypes"
   ]
  },
  {
   "cell_type": "markdown",
   "metadata": {},
   "source": [
    "##### Remove rows with NA values"
   ]
  },
  {
   "cell_type": "code",
   "execution_count": 39,
   "metadata": {},
   "outputs": [
    {
     "name": "stdout",
     "output_type": "stream",
     "text": [
      "There are 989 flats in the dataset\n"
     ]
    }
   ],
   "source": [
    "flatsOffers.dropna(subset=['District', 'Size m2', 'Rooms', 'Price' , 'Price/m2'], inplace=True)\n",
    "print('There are {} flats in the dataset'.format(flatsOffers.shape[0]))"
   ]
  },
  {
   "cell_type": "markdown",
   "metadata": {},
   "source": [
    "##### Let's check how many apartments per room number there is in dataset"
   ]
  },
  {
   "cell_type": "code",
   "execution_count": 40,
   "metadata": {},
   "outputs": [
    {
     "data": {
      "text/plain": [
       "2    516\n",
       "1    304\n",
       "3    147\n",
       "4     22\n",
       "Name: Rooms, dtype: int64"
      ]
     },
     "execution_count": 40,
     "metadata": {},
     "output_type": "execute_result"
    }
   ],
   "source": [
    "flatsOffers['Rooms'].value_counts()"
   ]
  },
  {
   "cell_type": "markdown",
   "metadata": {},
   "source": [
    "##### We can check the number of apartments per room number and number of apartments in each district"
   ]
  },
  {
   "cell_type": "code",
   "execution_count": 41,
   "metadata": {},
   "outputs": [
    {
     "data": {
      "text/plain": [
       "[Text(0, 0, ' Włochy'),\n",
       " Text(0, 0, ' Ursus'),\n",
       " Text(0, 0, ' Białołęka'),\n",
       " Text(0, 0, ' Bielany'),\n",
       " Text(0, 0, ' Wawer'),\n",
       " Text(0, 0, ' Mokotów'),\n",
       " Text(0, 0, ' Ursynów'),\n",
       " Text(0, 0, ' Wola'),\n",
       " Text(0, 0, ' Żoliborz'),\n",
       " Text(0, 0, ' Targówek'),\n",
       " Text(0, 0, ' Bemowo'),\n",
       " Text(0, 0, ' Wilanów'),\n",
       " Text(0, 0, ' Ochota'),\n",
       " Text(0, 0, ' Śródmieście'),\n",
       " Text(0, 0, ' Praga-Północ'),\n",
       " Text(0, 0, ' Praga-Południe'),\n",
       " Text(0, 0, ' Wesoła'),\n",
       " Text(0, 0, ' Rembertów')]"
      ]
     },
     "execution_count": 41,
     "metadata": {},
     "output_type": "execute_result"
    },
    {
     "data": {
      "image/png": "[encoded data removed]",
      "text/plain": [
       "<Figure size 864x1080 with 2 Axes>"
      ]
     },
     "metadata": {
      "needs_background": "light"
     },
     "output_type": "display_data"
    }
   ],
   "source": [
    "fig, ax =plt.subplots(2,1, figsize=(12,15))\n",
    "sns.countplot(flatsOffers['Rooms'], ax=ax[0])\n",
    "sns.countplot(flatsOffers['District'], ax=ax[1])\n",
    "ax[1].set_xticklabels(ax[1].get_xticklabels(), rotation=50, ha=\"right\")"
   ]
  },
  {
   "cell_type": "markdown",
   "metadata": {},
   "source": [
    "##### Plot the price"
   ]
  },
  {
   "cell_type": "code",
   "execution_count": 42,
   "metadata": {},
   "outputs": [
    {
     "data": {
      "text/plain": [
       "<seaborn.axisgrid.JointGrid at 0xe71a108>"
      ]
     },
     "execution_count": 42,
     "metadata": {},
     "output_type": "execute_result"
    },
    {
     "data": {
      "image/png": "[encoded data removed]",
      "text/plain": [
       "<Figure size 432x432 with 3 Axes>"
      ]
     },
     "metadata": {
      "needs_background": "light"
     },
     "output_type": "display_data"
    }
   ],
   "source": [
    "sns.jointplot(x='Size m2', y='Price', data=flatsOffers[['Size m2','Price']])"
   ]
  },
  {
   "cell_type": "markdown",
   "metadata": {},
   "source": [
    "##### Remove the outliers"
   ]
  },
  {
   "cell_type": "code",
   "execution_count": 43,
   "metadata": {
    "scrolled": true
   },
   "outputs": [
    {
     "data": {
      "text/plain": [
       "<seaborn.axisgrid.JointGrid at 0xd6e2ec8>"
      ]
     },
     "execution_count": 43,
     "metadata": {},
     "output_type": "execute_result"
    },
    {
     "data": {
      "image/png": "[encoded data removed]",
      "text/plain": [
       "<Figure size 432x432 with 3 Axes>"
      ]
     },
     "metadata": {
      "needs_background": "light"
     },
     "output_type": "display_data"
    }
   ],
   "source": [
    "flatsOffers = flatsOffers[flatsOffers['Price'] <= 6000]\n",
    "sns.jointplot(x='Size m2', y='Price', data=flatsOffers[['Size m2','Price']])"
   ]
  },
  {
   "cell_type": "markdown",
   "metadata": {},
   "source": [
    "##### We expect the value of properties to go up as the number of rooms increases. "
   ]
  },
  {
   "cell_type": "code",
   "execution_count": 44,
   "metadata": {},
   "outputs": [
    {
     "data": {
      "text/plain": [
       "<matplotlib.axes._subplots.AxesSubplot at 0xcc3e608>"
      ]
     },
     "execution_count": 44,
     "metadata": {},
     "output_type": "execute_result"
    },
    {
     "data": {
      "image/png": "[encoded data removed]",
      "text/plain": [
       "<Figure size 432x288 with 1 Axes>"
      ]
     },
     "metadata": {
      "needs_background": "light"
     },
     "output_type": "display_data"
    }
   ],
   "source": [
    "sns.boxplot(x='Rooms', y='Price', data=flatsOffers)"
   ]
  },
  {
   "cell_type": "code",
   "execution_count": 45,
   "metadata": {},
   "outputs": [
    {
     "data": {
      "text/plain": [
       "<matplotlib.axes._subplots.AxesSubplot at 0xe9ada48>"
      ]
     },
     "execution_count": 45,
     "metadata": {},
     "output_type": "execute_result"
    },
    {
     "data": {
      "image/png": "[encoded data removed]",
      "text/plain": [
       "<Figure size 432x288 with 1 Axes>"
      ]
     },
     "metadata": {
      "needs_background": "light"
     },
     "output_type": "display_data"
    }
   ],
   "source": [
    "sns.boxplot(x='Rooms', y='Price/m2', data=flatsOffers)"
   ]
  },
  {
   "cell_type": "code",
   "execution_count": 46,
   "metadata": {},
   "outputs": [
    {
     "data": {
      "text/plain": [
       "<matplotlib.axes._subplots.AxesSubplot at 0xcc309c8>"
      ]
     },
     "execution_count": 46,
     "metadata": {},
     "output_type": "execute_result"
    },
    {
     "data": {
      "image/png": "[encoded data removed]",
      "text/plain": [
       "<Figure size 432x288 with 1 Axes>"
      ]
     },
     "metadata": {
      "needs_background": "light"
     },
     "output_type": "display_data"
    }
   ],
   "source": [
    "flatsOffers = flatsOffers[flatsOffers['Price/m2'] <= 120]\n",
    "sns.boxplot(x='Rooms', y='Price/m2', data=flatsOffers)"
   ]
  },
  {
   "cell_type": "code",
   "execution_count": 47,
   "metadata": {
    "scrolled": true
   },
   "outputs": [
    {
     "data": {
      "image/png": "[encoded data removed]",
      "text/plain": [
       "<Figure size 1080x720 with 1 Axes>"
      ]
     },
     "metadata": {
      "needs_background": "light"
     },
     "output_type": "display_data"
    }
   ],
   "source": [
    "plt.figure(figsize=(15,10))\n",
    "ax = sns.boxplot(x='District', y='Price', data=flatsOffers)\n",
    "ax.set_xticklabels(ax.get_xticklabels(), rotation=50, ha=\"right\")\n",
    "ax.tick_params(labelsize=13)"
   ]
  },
  {
   "cell_type": "markdown",
   "metadata": {},
   "source": [
    "##### Save the dataframe to a csv file"
   ]
  },
  {
   "cell_type": "code",
   "execution_count": 48,
   "metadata": {},
   "outputs": [],
   "source": [
    "flatsOffers.to_csv('flatsOffersAferProcessing.csv',index=False) "
   ]
  },
  {
   "cell_type": "code",
   "execution_count": 49,
   "metadata": {},
   "outputs": [
    {
     "data": {
      "text/html": [
       "<div>\n",
       "<style scoped>\n",
       "    .dataframe tbody tr th:only-of-type {\n",
       "        vertical-align: middle;\n",
       "    }\n",
       "\n",
       "    .dataframe tbody tr th {\n",
       "        vertical-align: top;\n",
       "    }\n",
       "\n",
       "    .dataframe thead th {\n",
       "        text-align: right;\n",
       "    }\n",
       "</style>\n",
       "<table border=\"1\" class=\"dataframe\">\n",
       "  <thead>\n",
       "    <tr style=\"text-align: right;\">\n",
       "      <th></th>\n",
       "      <th>District</th>\n",
       "      <th>Size m2</th>\n",
       "      <th>Rooms</th>\n",
       "      <th>Price</th>\n",
       "      <th>Price/m2</th>\n",
       "    </tr>\n",
       "  </thead>\n",
       "  <tbody>\n",
       "    <tr>\n",
       "      <th>0</th>\n",
       "      <td>Włochy</td>\n",
       "      <td>49.00</td>\n",
       "      <td>2</td>\n",
       "      <td>2500.0</td>\n",
       "      <td>51.02</td>\n",
       "    </tr>\n",
       "    <tr>\n",
       "      <th>1</th>\n",
       "      <td>Ursus</td>\n",
       "      <td>37.07</td>\n",
       "      <td>2</td>\n",
       "      <td>1800.0</td>\n",
       "      <td>48.56</td>\n",
       "    </tr>\n",
       "    <tr>\n",
       "      <th>2</th>\n",
       "      <td>Białołęka</td>\n",
       "      <td>37.00</td>\n",
       "      <td>2</td>\n",
       "      <td>2300.0</td>\n",
       "      <td>62.16</td>\n",
       "    </tr>\n",
       "    <tr>\n",
       "      <th>3</th>\n",
       "      <td>Bielany</td>\n",
       "      <td>88.00</td>\n",
       "      <td>4</td>\n",
       "      <td>3499.0</td>\n",
       "      <td>39.76</td>\n",
       "    </tr>\n",
       "    <tr>\n",
       "      <th>4</th>\n",
       "      <td>Wawer</td>\n",
       "      <td>130.00</td>\n",
       "      <td>3</td>\n",
       "      <td>3500.0</td>\n",
       "      <td>26.92</td>\n",
       "    </tr>\n",
       "  </tbody>\n",
       "</table>\n",
       "</div>"
      ],
      "text/plain": [
       "     District  Size m2  Rooms   Price  Price/m2\n",
       "0      Włochy    49.00      2  2500.0     51.02\n",
       "1       Ursus    37.07      2  1800.0     48.56\n",
       "2   Białołęka    37.00      2  2300.0     62.16\n",
       "3     Bielany    88.00      4  3499.0     39.76\n",
       "4       Wawer   130.00      3  3500.0     26.92"
      ]
     },
     "execution_count": 49,
     "metadata": {},
     "output_type": "execute_result"
    }
   ],
   "source": [
    "flatsOffers = pd.read_csv(\"flatsOffersAferProcessing.csv\") \n",
    "flatsOffers.head()"
   ]
  },
  {
   "cell_type": "code",
   "execution_count": null,
   "metadata": {},
   "outputs": [],
   "source": []
  }
 ],
 "metadata": {
  "kernelspec": {
   "display_name": "Python 3",
   "language": "python",
   "name": "python3"
  },
  "language_info": {
   "codemirror_mode": {
    "name": "ipython",
    "version": 3
   },
   "file_extension": ".py",
   "mimetype": "text/x-python",
   "name": "python",
   "nbconvert_exporter": "python",
   "pygments_lexer": "ipython3",
   "version": "3.7.6"
  }
 },
 "nbformat": 4,
 "nbformat_minor": 4
}
